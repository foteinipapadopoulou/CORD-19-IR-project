{
 "metadata": {
  "deepnote": {},
  "deepnote_notebook_id": "8d4e39962ee24eea9e5e8b3375a3f990",
  "deepnote_execution_queue": [],
  "language_info": {
   "name": "python",
   "version": "3.10.12",
   "mimetype": "text/x-python",
   "codemirror_mode": {
    "name": "ipython",
    "version": 3
   },
   "pygments_lexer": "ipython3",
   "nbconvert_exporter": "python",
   "file_extension": ".py"
  },
  "kernelspec": {
   "name": "python3",
   "display_name": "Python 3",
   "language": "python"
  },
  "kaggle": {
   "accelerator": "nvidiaTeslaT4",
   "dataSources": [
    {
     "sourceId": 7094445,
     "sourceType": "datasetVersion",
     "datasetId": 4088624
    },
    {
     "sourceId": 7124060,
     "sourceType": "datasetVersion",
     "datasetId": 4102661
    }
   ],
   "dockerImageVersionId": 30587,
   "isInternetEnabled": true,
   "language": "python",
   "sourceType": "notebook",
   "isGpuEnabled": true
  }
 },
 "nbformat_minor": 4,
 "nbformat": 4,
 "cells": [
  {
   "cell_type": "markdown",
   "source": [
    "Download the libraries"
   ],
   "metadata": {
    "formattedRanges": [],
    "cell_id": "7b4e7fc144604c3ebfa5bfed57bcce4c",
    "deepnote_cell_type": "text-cell-p"
   }
  },
  {
   "cell_type": "code",
   "source": [
    "!pip install -r /kaggle/input/requirements/requirements.txt"
   ],
   "metadata": {
    "source_hash": null,
    "execution_start": 1700939372961,
    "execution_millis": 5484,
    "deepnote_to_be_reexecuted": false,
    "cell_id": "66e4d0f9d77b4cf2bdea69b027bd42a5",
    "deepnote_cell_type": "code",
    "trusted": true
   },
   "execution_count": null,
   "outputs": []
  },
  {
   "cell_type": "markdown",
   "source": [
    "Installing Java as it is needed for pyterrier"
   ],
   "metadata": {
    "formattedRanges": [],
    "cell_id": "baf6405aeb85472396b5b52d54d6a1d3",
    "deepnote_cell_type": "text-cell-p"
   }
  },
  {
   "cell_type": "code",
   "source": [
    "!apt-get install -y default-jre\n",
    "!apt-get update && \\\n",
    "    apt-get install -y openjdk-11-jdk ca-certificates-java && \\\n",
    "    apt-get clean && \\\n",
    "    update-ca-certificates -f"
   ],
   "metadata": {
    "source_hash": null,
    "execution_start": 1700939378452,
    "execution_millis": 947,
    "deepnote_to_be_reexecuted": false,
    "cell_id": "ee038bbefe064ed9972f254ce4aba10d",
    "deepnote_cell_type": "code",
    "trusted": true
   },
   "execution_count": null,
   "outputs": []
  },
  {
   "cell_type": "markdown",
   "source": [
    "Importing all the necessary libraries"
   ],
   "metadata": {}
  },
  {
   "cell_type": "code",
   "source": [
    "import pyterrier as pt\n",
    "if not pt.started():\n",
    "    pt.init()\n",
    "pt.logging(\"INFO\")\n",
    "\n",
    "from pyterrier.measures import *\n",
    "from pyterrier_doc2query import Doc2Query, QueryScorer, QueryFilter\n",
    "from pyterrier_dr import ElectraScorer"
   ],
   "metadata": {
    "source_hash": null,
    "execution_start": 1700939382800,
    "execution_millis": 2558,
    "deepnote_to_be_reexecuted": false,
    "cell_id": "950e97eab6694ef78dc589818ae13f59",
    "deepnote_cell_type": "code",
    "execution": {
     "iopub.status.busy": "2023-12-04T21:49:27.898058Z",
     "iopub.execute_input": "2023-12-04T21:49:27.899026Z",
     "iopub.status.idle": "2023-12-04T21:49:27.943984Z",
     "shell.execute_reply.started": "2023-12-04T21:49:27.898991Z",
     "shell.execute_reply": "2023-12-04T21:49:27.942761Z"
    },
    "trusted": true
   },
   "execution_count": null,
   "outputs": []
  },
  {
   "cell_type": "code",
   "source": [
    "def load_dataset(dataset_name):\n",
    "    dataset = pt.get_dataset(dataset_name)\n",
    "    return dataset"
   ],
   "metadata": {
    "trusted": true
   },
   "execution_count": null,
   "outputs": []
  },
  {
   "cell_type": "code",
   "source": [
    "\"\"\" \n",
    "    Iterating over docs to remove duplicate and empty docs\n",
    "    Code retrieved by : https://github.com/terrierteam/pyterrier_deepimpact/blob/main/cord19_example.py \n",
    "\"\"\"\n",
    "def text_iter(doc_iter):\n",
    "    encountered_docnos = set()\n",
    "    for doc in doc_iter:\n",
    "        # Skipping over empty docs\n",
    "        if len(doc['title'].strip()) == 0 or len(doc['abstract'].strip()) == 0:\n",
    "            continue\n",
    "        # Skipping over duplicate docs and merging fields\n",
    "        if doc['docno'] not in encountered_docnos:\n",
    "            yield {\"docno\": doc['docno'], \"text\": '{title} {abstract}'.format(**doc)}\n",
    "            encountered_docnos.add(doc['docno'])"
   ],
   "metadata": {
    "source_hash": null,
    "execution_start": 1700939385359,
    "execution_millis": 9,
    "deepnote_to_be_reexecuted": false,
    "cell_id": "2b909c72bb3e47d487f437104154f606",
    "deepnote_cell_type": "code",
    "trusted": true
   },
   "execution_count": null,
   "outputs": []
  },
  {
   "cell_type": "markdown",
   "source": [
    "Setting up some constants for the CORD-19 dataset\n"
   ],
   "metadata": {}
  },
  {
   "cell_type": "code",
   "source": [
    "FULL_TREC_COVID_DATASET_NAME = \"irds:cord19/trec-covid\"\n",
    "STAND_INDEX_NAME = 'standard_index'\n",
    "DOC2QUERY_INDEX_NAME = 'doc2query--_index'"
   ],
   "metadata": {
    "trusted": true
   },
   "execution_count": null,
   "outputs": []
  },
  {
   "cell_type": "markdown",
   "source": [
    "Creating the index"
   ],
   "metadata": {}
  },
  {
   "cell_type": "code",
   "source": [
    "\"\"\"\n",
    "Standard indexing with pyterrier\n",
    "\"\"\"\n",
    "def indexing():\n",
    "    loaded_dataset = load_dataset(FULL_TREC_COVID_DATASET_NAME)\n",
    "\n",
    "    # Creating standard index\n",
    "    indexer = pt.IterDictIndexer(f'./indexes/{STAND_INDEX_NAME}')\n",
    "    index_ref = indexer.index(text_iter(loaded_dataset.get_corpus_iter()))\n",
    "    return index_ref, loaded_dataset"
   ],
   "metadata": {
    "trusted": true,
    "is_executing": true
   },
   "execution_count": null,
   "outputs": []
  },
  {
   "cell_type": "code",
   "source": [
    "def retrieval(index_ref, loaded_dataset, variant='title'):\n",
    "    # Preparing the models\n",
    "    tfidf = pt.BatchRetrieve(index_ref, wmodel=\"TF_IDF\")\n",
    "    bm25 = pt.BatchRetrieve(index_ref, wmodel=\"BM25\")\n",
    "    dir_LM = pt.BatchRetrieve(index_ref, wmodel=\"DirichletLM\")\n",
    "\n",
    "    # Evaluation\n",
    "    exp = pt.Experiment(\n",
    "        [tfidf, bm25, dir_LM],\n",
    "        loaded_dataset.get_topics(variant=variant),\n",
    "        loaded_dataset.get_qrels(),\n",
    "        eval_metrics=[P@20,R@20,'map',nDCG@20],\n",
    "        round = 4,\n",
    "        names=[\"TF IDF\", \"BM25\",\"DirichletLM\"])\n",
    "    return exp"
   ],
   "metadata": {
    "trusted": true
   },
   "execution_count": null,
   "outputs": []
  },
  {
   "cell_type": "markdown",
   "source": [
    "Standard Indexing"
   ],
   "metadata": {}
  },
  {
   "cell_type": "code",
   "source": [
    "index_ref1, loaded_dataset = indexing()\n",
    "experiment = retrieval(index_ref1,loaded_dataset)\n",
    "print(experiment)"
   ],
   "metadata": {
    "trusted": true
   },
   "execution_count": null,
   "outputs": []
  },
  {
   "cell_type": "markdown",
   "source": [
    "Doc2Query-- indexing"
   ],
   "metadata": {
    "formattedRanges": [],
    "cell_id": "c12348c52fa9489da5152956d8c1f856",
    "deepnote_cell_type": "text-cell-p"
   }
  },
  {
   "cell_type": "code",
   "source": [
    "\"\"\"\n",
    "Doc2Query-- indexing\n",
    "\"\"\"\n",
    "def doc2query_minus_minus_indexing():\n",
    "    #  Initialize a Doc2Query object with a pre-trained Doc2Query model\n",
    "    #  based on t5-base and trained on MS MARCO(default).\n",
    "    #  It generates the queries but we don't append them because we will remove non-relevant queries\n",
    "    doc2query = Doc2Query(append=False, num_samples=20)\n",
    "    # The generated queries will be scored with the \"crystina-z/monoELECTRA_LCE_nneg3\" pre-trained model\n",
    "    # using Electra scorer since it has the best scores in the Doc2Query-- research\n",
    "    scorer = ElectraScorer('crystina-z/monoELECTRA_LCE_nneg31')\n",
    "\n",
    "    loaded_dataset = load_dataset(FULL_TREC_COVID_DATASET_NAME)\n",
    "\n",
    "    index = pt.IterDictIndexer(f'./indexes/{DOC2QUERY_INDEX_NAME}')\n",
    "    pipeline = doc2query >> QueryScorer(scorer) >> QueryFilter(append=True, t=3.21484375) >> index\n",
    "\n",
    "    index_ref = pipeline.index(text_iter(loaded_dataset.get_corpus_iter()))\n",
    "    return index_ref, loaded_dataset"
   ],
   "metadata": {
    "trusted": true
   },
   "execution_count": null,
   "outputs": []
  },
  {
   "cell_type": "code",
   "source": [
    "index_ref_doc2query, loaded_dataset = doc2query_minus_minus_indexing()\n",
    "exp_doc = retrieval(index_ref_doc2query, loaded_dataset)\n",
    "print(exp_doc)"
   ],
   "metadata": {
    "trusted": true
   },
   "execution_count": null,
   "outputs": []
  },
  {
   "cell_type": "markdown",
   "source": [
    "Deep Impact Indexing and Retrieval"
   ],
   "metadata": {
    "collapsed": false
   }
  },
  {
   "cell_type": "code",
   "execution_count": null,
   "outputs": [],
   "source": [
    "def deep_impact_indexing():\n",
    "    loaded_dataset = load_dataset(FULL_TREC_COVID_DATASET_NAME)\n",
    "\n",
    "    index_path = f'./indexes/{DEEPIMPACT_INDEX_NAME}'\n",
    "\n",
    "    parent = pt.IterDictIndexer(index_path)\n",
    "    parent.setProperty(\"termpipelines\", \"\")\n",
    "\n",
    "    # Set base model with 'gsarti/covidbert-nli' pre-trained model on CORD-19 dataset\n",
    "    # https://huggingface.co/gsarti/covidbert-nli\n",
    "    indexer = DeepImpactIndexer(parent, batch_size=32, base_model='gsarti/covidbert-nli')\n",
    "    indexer.index(text_iter(loaded_dataset.get_corpus_iter()))\n",
    "\n",
    "    index_ref = pt.IndexRef.of(index_path + \"/data.properties\")\n",
    "    index_di = pt.IndexFactory.of(index_ref)\n",
    "    return index_di, loaded_dataset\n"
   ],
   "metadata": {
    "collapsed": false,
    "is_executing": true
   }
  },
  {
   "cell_type": "code",
   "execution_count": null,
   "outputs": [],
   "source": [
    "def retrieval_deep_impact(index_ref, loaded_dataset, variant='title'):\n",
    "    # Preparing the model\n",
    "    tf = pt.BatchRetrieve(index_ref, wmodel=\"Tf\")\n",
    "\n",
    "    # Evaluation\n",
    "    exp = pt.Experiment(\n",
    "        [tf],\n",
    "        loaded_dataset.get_topics(variant=variant),\n",
    "        loaded_dataset.get_qrels(),\n",
    "        eval_metrics=[P@20,R@20,'map',nDCG@20],\n",
    "        round = 4,\n",
    "        names=[\"Deep Impact\"])\n",
    "    return exp\n"
   ],
   "metadata": {
    "collapsed": false
   }
  },
  {
   "cell_type": "code",
   "execution_count": null,
   "outputs": [],
   "source": [
    "index, loaded_dataset = deep_impact_indexing()\n",
    "print(retrieval_deep_impact(index, loaded_dataset))"
   ],
   "metadata": {
    "collapsed": false
   }
  }
 ]
}
